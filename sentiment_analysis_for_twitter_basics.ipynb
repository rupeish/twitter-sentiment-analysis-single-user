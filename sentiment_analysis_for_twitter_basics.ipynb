{
  "nbformat": 4,
  "nbformat_minor": 0,
  "metadata": {
    "colab": {
      "name": "sentiment analysis for twitter basics.ipynb",
      "provenance": [],
      "collapsed_sections": []
    },
    "kernelspec": {
      "name": "python3",
      "display_name": "Python 3"
    }
  },
  "cells": [
    {
      "cell_type": "code",
      "metadata": {
        "id": "4VE-kB4fnxKw",
        "colab_type": "code",
        "outputId": "18072f9e-f8fe-4c5b-cd45-c1e4b609603b",
        "colab": {
          "base_uri": "https://localhost:8080/",
          "height": 34
        }
      },
      "source": [
        "print(\"Hello World\")"
      ],
      "execution_count": 0,
      "outputs": [
        {
          "output_type": "stream",
          "text": [
            "Hello World\n"
          ],
          "name": "stdout"
        }
      ]
    },
    {
      "cell_type": "code",
      "metadata": {
        "id": "ktZ8yPvToHAr",
        "colab_type": "code",
        "colab": {}
      },
      "source": [
        "import numpy as np\n",
        "import pandas as pd\n",
        "import matplotlib.pyplot as plt\n",
        "import tweepy\n",
        "from textblob import TextBlob\n",
        "from wordcloud import WordCloud\n",
        "import re\n",
        "plt.style.use('fivethirtyeight')"
      ],
      "execution_count": 0,
      "outputs": []
    },
    {
      "cell_type": "code",
      "metadata": {
        "id": "2AaEOYh6qGfZ",
        "colab_type": "code",
        "outputId": "69bcc82b-e121-4eb8-853d-92c0d23be4f9",
        "colab": {
          "resources": {
            "http://localhost:8080/nbextensions/google.colab/files.js": {
              "data": "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",
              "ok": true,
              "headers": [
                [
                  "content-type",
                  "application/javascript"
                ]
              ],
              "status": 200,
              "status_text": ""
            }
          },
          "base_uri": "https://localhost:8080/",
          "height": 74
        }
      },
      "source": [
        "from google.colab import files\n",
        "uploaded = files.upload()"
      ],
      "execution_count": 0,
      "outputs": [
        {
          "output_type": "display_data",
          "data": {
            "text/html": [
              "\n",
              "     <input type=\"file\" id=\"files-33f3c2cb-d2ae-4aa3-899f-1f298d8ae497\" name=\"files[]\" multiple disabled />\n",
              "     <output id=\"result-33f3c2cb-d2ae-4aa3-899f-1f298d8ae497\">\n",
              "      Upload widget is only available when the cell has been executed in the\n",
              "      current browser session. Please rerun this cell to enable.\n",
              "      </output>\n",
              "      <script src=\"/nbextensions/google.colab/files.js\"></script> "
            ],
            "text/plain": [
              "<IPython.core.display.HTML object>"
            ]
          },
          "metadata": {
            "tags": []
          }
        },
        {
          "output_type": "stream",
          "text": [
            "Saving Login.csv to Login (1).csv\n"
          ],
          "name": "stdout"
        }
      ]
    },
    {
      "cell_type": "code",
      "metadata": {
        "id": "gu6KrjF5qpSy",
        "colab_type": "code",
        "colab": {}
      },
      "source": [
        "log = pd.read_csv('Login.csv')"
      ],
      "execution_count": 0,
      "outputs": []
    },
    {
      "cell_type": "code",
      "metadata": {
        "id": "QuF7LlbL6KNC",
        "colab_type": "code",
        "colab": {}
      },
      "source": [
        "consumerKey = log['key'][2]\n",
        "consumerSecret = log['key'][3]\n",
        "accessToken = log['key'][0]\n",
        "accessTokenSecret = log['key'][1]"
      ],
      "execution_count": 0,
      "outputs": []
    },
    {
      "cell_type": "code",
      "metadata": {
        "id": "OcYotD-G6kU3",
        "colab_type": "code",
        "colab": {}
      },
      "source": [
        "authenticate = tweepy.OAuthHandler(consumerKey,consumerSecret)\n",
        "\n",
        "authenticate.set_access_token(accessToken,accessTokenSecret)\n",
        "\n",
        "api = tweepy.API(authenticate,wait_on_rate_limit=True)"
      ],
      "execution_count": 0,
      "outputs": []
    },
    {
      "cell_type": "code",
      "metadata": {
        "id": "7ZDOdtqi73mT",
        "colab_type": "code",
        "outputId": "91dac375-fecd-4ed8-967f-bae905d1693b",
        "colab": {
          "base_uri": "https://localhost:8080/",
          "height": 224
        }
      },
      "source": [
        "posts = api.user_timeline(screen_name=\"akshaykumar\",count=100,lang=\"en\",tweet_mode=\"extended\")\n",
        "\n",
        "for tweet in posts[0:5]:\n",
        "    print(tweet.full_text+'\\n')"
      ],
      "execution_count": 0,
      "outputs": [
        {
          "output_type": "stream",
          "text": [
            "RT @IPS_Association: As a mark of gratitude to the #IPS officer who helped bring her new born into the world in extremely adverse circumsta…\n",
            "\n",
            "A great cause needs your support. Covid doesn’t stop periods, help provide sanitary pads to underprivileged women across Mumbai. Every donation counts : https://t.co/gty1PeX3CT https://t.co/CDgPkoGH82\n",
            "\n",
            "This pandemic has only strengthened my belief that in times of crisis,it’s your family,your loved ones &amp; your home that always stands by you. In my home with my family,I always feel safe &amp; protected &amp; I am sure so do you.Aakhir Apna Ghar Apna hi hota hai. #ApnaGharApnaDesh @LODHA https://t.co/5QwTmytgkJ\n",
            "\n",
            "RT @sonakshisinha: Bid for Good!\n",
            "I have teamed up with @FankindOfficial to auction my art &amp; help raise funds to provide ration kits to dail…\n",
            "\n",
            "Thank you @ajaydevgn...so my favourite films from the 90s would have to be Sangharsh and Andaz Apna Apna. I’m further tagging @ranveerofficial and @karanjohar to share theirs.  #90slove https://t.co/1xiH5yk7t2\n",
            "\n"
          ],
          "name": "stdout"
        }
      ]
    },
    {
      "cell_type": "code",
      "metadata": {
        "id": "8AFaChDv-7-A",
        "colab_type": "code",
        "outputId": "8800d45e-5bd4-4d6e-9477-c65d3defd13d",
        "colab": {
          "base_uri": "https://localhost:8080/",
          "height": 204
        }
      },
      "source": [
        "df = pd.DataFrame([tweet.full_text for tweet in posts],columns=[\"tweets\"])\n",
        "df.head()"
      ],
      "execution_count": 0,
      "outputs": [
        {
          "output_type": "execute_result",
          "data": {
            "text/html": [
              "<div>\n",
              "<style scoped>\n",
              "    .dataframe tbody tr th:only-of-type {\n",
              "        vertical-align: middle;\n",
              "    }\n",
              "\n",
              "    .dataframe tbody tr th {\n",
              "        vertical-align: top;\n",
              "    }\n",
              "\n",
              "    .dataframe thead th {\n",
              "        text-align: right;\n",
              "    }\n",
              "</style>\n",
              "<table border=\"1\" class=\"dataframe\">\n",
              "  <thead>\n",
              "    <tr style=\"text-align: right;\">\n",
              "      <th></th>\n",
              "      <th>tweets</th>\n",
              "    </tr>\n",
              "  </thead>\n",
              "  <tbody>\n",
              "    <tr>\n",
              "      <th>0</th>\n",
              "      <td>RT @IPS_Association: As a mark of gratitude to...</td>\n",
              "    </tr>\n",
              "    <tr>\n",
              "      <th>1</th>\n",
              "      <td>A great cause needs your support. Covid doesn’...</td>\n",
              "    </tr>\n",
              "    <tr>\n",
              "      <th>2</th>\n",
              "      <td>This pandemic has only strengthened my belief ...</td>\n",
              "    </tr>\n",
              "    <tr>\n",
              "      <th>3</th>\n",
              "      <td>RT @sonakshisinha: Bid for Good!\\nI have teame...</td>\n",
              "    </tr>\n",
              "    <tr>\n",
              "      <th>4</th>\n",
              "      <td>Thank you @ajaydevgn...so my favourite films f...</td>\n",
              "    </tr>\n",
              "  </tbody>\n",
              "</table>\n",
              "</div>"
            ],
            "text/plain": [
              "                                              tweets\n",
              "0  RT @IPS_Association: As a mark of gratitude to...\n",
              "1  A great cause needs your support. Covid doesn’...\n",
              "2  This pandemic has only strengthened my belief ...\n",
              "3  RT @sonakshisinha: Bid for Good!\\nI have teame...\n",
              "4  Thank you @ajaydevgn...so my favourite films f..."
            ]
          },
          "metadata": {
            "tags": []
          },
          "execution_count": 34
        }
      ]
    },
    {
      "cell_type": "code",
      "metadata": {
        "id": "ZN0o0PBuDVRl",
        "colab_type": "code",
        "colab": {}
      },
      "source": [
        "def cleanText(text):\n",
        "  text = re.sub(r'@[A-Za-z0-9]+','',text)\n",
        "  text = re.sub(r'#','',text)\n",
        "  text = re.sub(r'RT[\\s]+','',text)\n",
        "  text = re.sub(r'https?:\\/\\/\\S','',text)\n",
        "  return text\n",
        "\n",
        "df['tweets']=df['tweets'].apply(cleanText)"
      ],
      "execution_count": 0,
      "outputs": []
    },
    {
      "cell_type": "code",
      "metadata": {
        "id": "3EHR6LuaGHA4",
        "colab_type": "code",
        "outputId": "73298186-b295-4d4f-be52-1c5d08dc0e8e",
        "colab": {
          "base_uri": "https://localhost:8080/",
          "height": 419
        }
      },
      "source": [
        "df"
      ],
      "execution_count": 0,
      "outputs": [
        {
          "output_type": "execute_result",
          "data": {
            "text/html": [
              "<div>\n",
              "<style scoped>\n",
              "    .dataframe tbody tr th:only-of-type {\n",
              "        vertical-align: middle;\n",
              "    }\n",
              "\n",
              "    .dataframe tbody tr th {\n",
              "        vertical-align: top;\n",
              "    }\n",
              "\n",
              "    .dataframe thead th {\n",
              "        text-align: right;\n",
              "    }\n",
              "</style>\n",
              "<table border=\"1\" class=\"dataframe\">\n",
              "  <thead>\n",
              "    <tr style=\"text-align: right;\">\n",
              "      <th></th>\n",
              "      <th>tweets</th>\n",
              "      <th>Subjectivity</th>\n",
              "      <th>Polarity</th>\n",
              "    </tr>\n",
              "  </thead>\n",
              "  <tbody>\n",
              "    <tr>\n",
              "      <th>0</th>\n",
              "      <td>_Association: As a mark of gratitude to the IP...</td>\n",
              "      <td>0.727273</td>\n",
              "      <td>0.005682</td>\n",
              "    </tr>\n",
              "    <tr>\n",
              "      <th>1</th>\n",
              "      <td>A great cause needs your support. Covid doesn’...</td>\n",
              "      <td>0.750000</td>\n",
              "      <td>0.800000</td>\n",
              "    </tr>\n",
              "    <tr>\n",
              "      <th>2</th>\n",
              "      <td>This pandemic has only strengthened my belief ...</td>\n",
              "      <td>0.797222</td>\n",
              "      <td>0.425000</td>\n",
              "    </tr>\n",
              "    <tr>\n",
              "      <th>3</th>\n",
              "      <td>: Bid for Good!\\nI have teamed up with  to auc...</td>\n",
              "      <td>0.600000</td>\n",
              "      <td>0.875000</td>\n",
              "    </tr>\n",
              "    <tr>\n",
              "      <th>4</th>\n",
              "      <td>Thank you ...so my favourite films from the 90...</td>\n",
              "      <td>0.500000</td>\n",
              "      <td>0.000000</td>\n",
              "    </tr>\n",
              "    <tr>\n",
              "      <th>...</th>\n",
              "      <td>...</td>\n",
              "      <td>...</td>\n",
              "      <td>...</td>\n",
              "    </tr>\n",
              "    <tr>\n",
              "      <th>95</th>\n",
              "      <td>Anytime _khan , we’re all friends here 🙃 Prese...</td>\n",
              "      <td>0.454545</td>\n",
              "      <td>0.153409</td>\n",
              "    </tr>\n",
              "    <tr>\n",
              "      <th>96</th>\n",
              "      <td>Speechless,the world has lost a Legendary Athl...</td>\n",
              "      <td>0.625000</td>\n",
              "      <td>0.458333</td>\n",
              "    </tr>\n",
              "    <tr>\n",
              "      <th>97</th>\n",
              "      <td>Rain is predicted for today.\\n\\nYes, its going...</td>\n",
              "      <td>0.577778</td>\n",
              "      <td>-0.050000</td>\n",
              "    </tr>\n",
              "    <tr>\n",
              "      <th>98</th>\n",
              "      <td>Desi Police is coming on 27th March with lots ...</td>\n",
              "      <td>0.388889</td>\n",
              "      <td>-0.166667</td>\n",
              "    </tr>\n",
              "    <tr>\n",
              "      <th>99</th>\n",
              "      <td>The story continues with another melody... Fil...</td>\n",
              "      <td>0.000000</td>\n",
              "      <td>0.000000</td>\n",
              "    </tr>\n",
              "  </tbody>\n",
              "</table>\n",
              "<p>100 rows × 3 columns</p>\n",
              "</div>"
            ],
            "text/plain": [
              "                                               tweets  Subjectivity  Polarity\n",
              "0   _Association: As a mark of gratitude to the IP...      0.727273  0.005682\n",
              "1   A great cause needs your support. Covid doesn’...      0.750000  0.800000\n",
              "2   This pandemic has only strengthened my belief ...      0.797222  0.425000\n",
              "3   : Bid for Good!\\nI have teamed up with  to auc...      0.600000  0.875000\n",
              "4   Thank you ...so my favourite films from the 90...      0.500000  0.000000\n",
              "..                                                ...           ...       ...\n",
              "95  Anytime _khan , we’re all friends here 🙃 Prese...      0.454545  0.153409\n",
              "96  Speechless,the world has lost a Legendary Athl...      0.625000  0.458333\n",
              "97  Rain is predicted for today.\\n\\nYes, its going...      0.577778 -0.050000\n",
              "98  Desi Police is coming on 27th March with lots ...      0.388889 -0.166667\n",
              "99  The story continues with another melody... Fil...      0.000000  0.000000\n",
              "\n",
              "[100 rows x 3 columns]"
            ]
          },
          "metadata": {
            "tags": []
          },
          "execution_count": 87
        }
      ]
    },
    {
      "cell_type": "code",
      "metadata": {
        "id": "ck_QeMJiGHyW",
        "colab_type": "code",
        "outputId": "6b563fd3-3652-4db7-e4fe-85027b0d6c8a",
        "colab": {
          "base_uri": "https://localhost:8080/",
          "height": 419
        }
      },
      "source": [
        "def getSubjectivity(text):\n",
        "  return TextBlob(text).sentiment.subjectivity\n",
        "  \n",
        "def getPolarity(text):\n",
        "  return TextBlob(text).sentiment.polarity\n",
        "\n",
        "df['Subjectivity'] = df['tweets'].apply(getSubjectivity)\n",
        "df['Polarity'] = df['tweets'].apply(getPolarity)\n",
        "\n",
        "df"
      ],
      "execution_count": 0,
      "outputs": [
        {
          "output_type": "execute_result",
          "data": {
            "text/html": [
              "<div>\n",
              "<style scoped>\n",
              "    .dataframe tbody tr th:only-of-type {\n",
              "        vertical-align: middle;\n",
              "    }\n",
              "\n",
              "    .dataframe tbody tr th {\n",
              "        vertical-align: top;\n",
              "    }\n",
              "\n",
              "    .dataframe thead th {\n",
              "        text-align: right;\n",
              "    }\n",
              "</style>\n",
              "<table border=\"1\" class=\"dataframe\">\n",
              "  <thead>\n",
              "    <tr style=\"text-align: right;\">\n",
              "      <th></th>\n",
              "      <th>tweets</th>\n",
              "      <th>Subjectivity</th>\n",
              "      <th>Polarity</th>\n",
              "    </tr>\n",
              "  </thead>\n",
              "  <tbody>\n",
              "    <tr>\n",
              "      <th>0</th>\n",
              "      <td>_Association: As a mark of gratitude to the IP...</td>\n",
              "      <td>0.727273</td>\n",
              "      <td>0.005682</td>\n",
              "    </tr>\n",
              "    <tr>\n",
              "      <th>1</th>\n",
              "      <td>A great cause needs your support. Covid doesn’...</td>\n",
              "      <td>0.750000</td>\n",
              "      <td>0.800000</td>\n",
              "    </tr>\n",
              "    <tr>\n",
              "      <th>2</th>\n",
              "      <td>This pandemic has only strengthened my belief ...</td>\n",
              "      <td>0.797222</td>\n",
              "      <td>0.425000</td>\n",
              "    </tr>\n",
              "    <tr>\n",
              "      <th>3</th>\n",
              "      <td>: Bid for Good!\\nI have teamed up with  to auc...</td>\n",
              "      <td>0.600000</td>\n",
              "      <td>0.875000</td>\n",
              "    </tr>\n",
              "    <tr>\n",
              "      <th>4</th>\n",
              "      <td>Thank you ...so my favourite films from the 90...</td>\n",
              "      <td>0.500000</td>\n",
              "      <td>0.000000</td>\n",
              "    </tr>\n",
              "    <tr>\n",
              "      <th>...</th>\n",
              "      <td>...</td>\n",
              "      <td>...</td>\n",
              "      <td>...</td>\n",
              "    </tr>\n",
              "    <tr>\n",
              "      <th>95</th>\n",
              "      <td>Anytime _khan , we’re all friends here 🙃 Prese...</td>\n",
              "      <td>0.454545</td>\n",
              "      <td>0.153409</td>\n",
              "    </tr>\n",
              "    <tr>\n",
              "      <th>96</th>\n",
              "      <td>Speechless,the world has lost a Legendary Athl...</td>\n",
              "      <td>0.625000</td>\n",
              "      <td>0.458333</td>\n",
              "    </tr>\n",
              "    <tr>\n",
              "      <th>97</th>\n",
              "      <td>Rain is predicted for today.\\n\\nYes, its going...</td>\n",
              "      <td>0.577778</td>\n",
              "      <td>-0.050000</td>\n",
              "    </tr>\n",
              "    <tr>\n",
              "      <th>98</th>\n",
              "      <td>Desi Police is coming on 27th March with lots ...</td>\n",
              "      <td>0.388889</td>\n",
              "      <td>-0.166667</td>\n",
              "    </tr>\n",
              "    <tr>\n",
              "      <th>99</th>\n",
              "      <td>The story continues with another melody... Fil...</td>\n",
              "      <td>0.000000</td>\n",
              "      <td>0.000000</td>\n",
              "    </tr>\n",
              "  </tbody>\n",
              "</table>\n",
              "<p>100 rows × 3 columns</p>\n",
              "</div>"
            ],
            "text/plain": [
              "                                               tweets  Subjectivity  Polarity\n",
              "0   _Association: As a mark of gratitude to the IP...      0.727273  0.005682\n",
              "1   A great cause needs your support. Covid doesn’...      0.750000  0.800000\n",
              "2   This pandemic has only strengthened my belief ...      0.797222  0.425000\n",
              "3   : Bid for Good!\\nI have teamed up with  to auc...      0.600000  0.875000\n",
              "4   Thank you ...so my favourite films from the 90...      0.500000  0.000000\n",
              "..                                                ...           ...       ...\n",
              "95  Anytime _khan , we’re all friends here 🙃 Prese...      0.454545  0.153409\n",
              "96  Speechless,the world has lost a Legendary Athl...      0.625000  0.458333\n",
              "97  Rain is predicted for today.\\n\\nYes, its going...      0.577778 -0.050000\n",
              "98  Desi Police is coming on 27th March with lots ...      0.388889 -0.166667\n",
              "99  The story continues with another melody... Fil...      0.000000  0.000000\n",
              "\n",
              "[100 rows x 3 columns]"
            ]
          },
          "metadata": {
            "tags": []
          },
          "execution_count": 88
        }
      ]
    },
    {
      "cell_type": "code",
      "metadata": {
        "id": "SPPK7pIbPpcm",
        "colab_type": "code",
        "outputId": "cbf8ec3b-bb53-406f-ec0a-3702696366ac",
        "colab": {
          "base_uri": "https://localhost:8080/",
          "height": 256
        }
      },
      "source": [
        "allWords = ' '.join([t for t in df['tweets']])\n",
        "wordCloud = WordCloud(width=500,height=300,random_state=21,max_font_size=119).generate(allWords)\n",
        "\n",
        "plt.imshow(wordCloud,interpolation=\"bilinear\")\n",
        "plt.axis('off')\n",
        "plt.show()"
      ],
      "execution_count": 0,
      "outputs": [
        {
          "output_type": "display_data",
          "data": {
            "image/png": "[encoded data removed]",
            "text/plain": [
              "<Figure size 432x288 with 1 Axes>"
            ]
          },
          "metadata": {
            "tags": []
          }
        }
      ]
    },
    {
      "cell_type": "code",
      "metadata": {
        "id": "bhn7ZJf1R8GQ",
        "colab_type": "code",
        "outputId": "a4a68b44-15a0-4064-c516-36014f8638a0",
        "colab": {
          "base_uri": "https://localhost:8080/",
          "height": 419
        }
      },
      "source": [
        "def getAnalysis(score):\n",
        "  if score>0:\n",
        "    return 'Positive'\n",
        "  elif score==0:\n",
        "    return 'Neutral'\n",
        "  else:\n",
        "    return 'Negative'\n",
        "\n",
        "df['Analysis'] = df['Polarity'].apply(getAnalysis)\n",
        "\n",
        "df"
      ],
      "execution_count": 0,
      "outputs": [
        {
          "output_type": "execute_result",
          "data": {
            "text/html": [
              "<div>\n",
              "<style scoped>\n",
              "    .dataframe tbody tr th:only-of-type {\n",
              "        vertical-align: middle;\n",
              "    }\n",
              "\n",
              "    .dataframe tbody tr th {\n",
              "        vertical-align: top;\n",
              "    }\n",
              "\n",
              "    .dataframe thead th {\n",
              "        text-align: right;\n",
              "    }\n",
              "</style>\n",
              "<table border=\"1\" class=\"dataframe\">\n",
              "  <thead>\n",
              "    <tr style=\"text-align: right;\">\n",
              "      <th></th>\n",
              "      <th>tweets</th>\n",
              "      <th>Subjectivity</th>\n",
              "      <th>Polarity</th>\n",
              "      <th>Analysis</th>\n",
              "    </tr>\n",
              "  </thead>\n",
              "  <tbody>\n",
              "    <tr>\n",
              "      <th>0</th>\n",
              "      <td>_Association: As a mark of gratitude to the IP...</td>\n",
              "      <td>0.727273</td>\n",
              "      <td>0.005682</td>\n",
              "      <td>Positive</td>\n",
              "    </tr>\n",
              "    <tr>\n",
              "      <th>1</th>\n",
              "      <td>A great cause needs your support. Covid doesn’...</td>\n",
              "      <td>0.750000</td>\n",
              "      <td>0.800000</td>\n",
              "      <td>Positive</td>\n",
              "    </tr>\n",
              "    <tr>\n",
              "      <th>2</th>\n",
              "      <td>This pandemic has only strengthened my belief ...</td>\n",
              "      <td>0.797222</td>\n",
              "      <td>0.425000</td>\n",
              "      <td>Positive</td>\n",
              "    </tr>\n",
              "    <tr>\n",
              "      <th>3</th>\n",
              "      <td>: Bid for Good!\\nI have teamed up with  to auc...</td>\n",
              "      <td>0.600000</td>\n",
              "      <td>0.875000</td>\n",
              "      <td>Positive</td>\n",
              "    </tr>\n",
              "    <tr>\n",
              "      <th>4</th>\n",
              "      <td>Thank you ...so my favourite films from the 90...</td>\n",
              "      <td>0.500000</td>\n",
              "      <td>0.000000</td>\n",
              "      <td>Neutral</td>\n",
              "    </tr>\n",
              "    <tr>\n",
              "      <th>...</th>\n",
              "      <td>...</td>\n",
              "      <td>...</td>\n",
              "      <td>...</td>\n",
              "      <td>...</td>\n",
              "    </tr>\n",
              "    <tr>\n",
              "      <th>95</th>\n",
              "      <td>Anytime _khan , we’re all friends here 🙃 Prese...</td>\n",
              "      <td>0.454545</td>\n",
              "      <td>0.153409</td>\n",
              "      <td>Positive</td>\n",
              "    </tr>\n",
              "    <tr>\n",
              "      <th>96</th>\n",
              "      <td>Speechless,the world has lost a Legendary Athl...</td>\n",
              "      <td>0.625000</td>\n",
              "      <td>0.458333</td>\n",
              "      <td>Positive</td>\n",
              "    </tr>\n",
              "    <tr>\n",
              "      <th>97</th>\n",
              "      <td>Rain is predicted for today.\\n\\nYes, its going...</td>\n",
              "      <td>0.577778</td>\n",
              "      <td>-0.050000</td>\n",
              "      <td>Negative</td>\n",
              "    </tr>\n",
              "    <tr>\n",
              "      <th>98</th>\n",
              "      <td>Desi Police is coming on 27th March with lots ...</td>\n",
              "      <td>0.388889</td>\n",
              "      <td>-0.166667</td>\n",
              "      <td>Negative</td>\n",
              "    </tr>\n",
              "    <tr>\n",
              "      <th>99</th>\n",
              "      <td>The story continues with another melody... Fil...</td>\n",
              "      <td>0.000000</td>\n",
              "      <td>0.000000</td>\n",
              "      <td>Neutral</td>\n",
              "    </tr>\n",
              "  </tbody>\n",
              "</table>\n",
              "<p>100 rows × 4 columns</p>\n",
              "</div>"
            ],
            "text/plain": [
              "                                               tweets  ...  Analysis\n",
              "0   _Association: As a mark of gratitude to the IP...  ...  Positive\n",
              "1   A great cause needs your support. Covid doesn’...  ...  Positive\n",
              "2   This pandemic has only strengthened my belief ...  ...  Positive\n",
              "3   : Bid for Good!\\nI have teamed up with  to auc...  ...  Positive\n",
              "4   Thank you ...so my favourite films from the 90...  ...   Neutral\n",
              "..                                                ...  ...       ...\n",
              "95  Anytime _khan , we’re all friends here 🙃 Prese...  ...  Positive\n",
              "96  Speechless,the world has lost a Legendary Athl...  ...  Positive\n",
              "97  Rain is predicted for today.\\n\\nYes, its going...  ...  Negative\n",
              "98  Desi Police is coming on 27th March with lots ...  ...  Negative\n",
              "99  The story continues with another melody... Fil...  ...   Neutral\n",
              "\n",
              "[100 rows x 4 columns]"
            ]
          },
          "metadata": {
            "tags": []
          },
          "execution_count": 91
        }
      ]
    },
    {
      "cell_type": "code",
      "metadata": {
        "id": "T3U1YxXSUKRy",
        "colab_type": "code",
        "outputId": "eea5ca41-9b63-48ab-c7f2-7d5a72fff16a",
        "colab": {
          "base_uri": "https://localhost:8080/",
          "height": 1000
        }
      },
      "source": [
        "j=1\n",
        "sortedDF = df.sort_values(by=['Polarity'])\n",
        "for i in range(0,sortedDF.shape[0]):\n",
        "  if (sortedDF['Analysis'][i]=='Positive'):\n",
        "    print(str(j)+'.'+sortedDF['tweets'][i])\n",
        "    print()\n",
        "    j=j+1"
      ],
      "execution_count": 0,
      "outputs": [
        {
          "output_type": "stream",
          "text": [
            "1._Association: As a mark of gratitude to the IPS officer who helped bring her new born into the world in extremely adverse circumsta…\n",
            "\n",
            "2.A great cause needs your support. Covid doesn’t stop periods, help provide sanitary pads to underprivileged women across Mumbai. Every donation counts : .co/gty1PeX3CT .co/CDgPkoGH82\n",
            "\n",
            "3.This pandemic has only strengthened my belief that in times of crisis,it’s your family,your loved ones &amp; your home that always stands by you. In my home with my family,I always feel safe &amp; protected &amp; I am sure so do you.Aakhir Apna Ghar Apna hi hota hai. ApnaGharApnaDesh  .co/5QwTmytgkJ\n",
            "\n",
            "4.: Bid for Good!\n",
            "I have teamed up with  to auction my art &amp; help raise funds to provide ration kits to dail…\n",
            "\n",
            "5.Everyday I hear incidents of bravery of our frontline workers who are putting fear &amp; exhaustion aside and putting us first. One such hero is our Maharashtra Police, I’m changing my DP to theirs as a mark of respect.Join in, together let’s say DilSeSalute to them🙏🏻\n",
            "\n",
            "6.Even in this day and age, you’re the only one whose one hand on my head can comfort me in troubled times because I know there’s nothing I can’t do with your blessings maa. Happy MothersDay ♥️ .co/bhpQ9UA7Sl\n",
            "\n",
            "7.Wish you a very Happy birthday! Love and prayers always ♥️ .co/cSz5wKcCyA\n",
            "\n",
            "8.From our hearts to yours. Thank you for watching.Thank you for responding.Thank you for donating. IForIndia started out as a concert. But it can be a movement. Let’s continue to build a safe, healthy &amp; strong India. I For India. Please donate .co/cEgmMhAdHa \n",
            " .co/DrVlltHFap\n",
            "\n",
            "9.We bring you India’s biggest at-home concert - IforIndia. Click the donate button and make a difference.\n",
            "Sunday, 3rd May, 7:30pm IST.\n",
            "Watch it LIVE- .co/DGhmShw3aI \n",
            "Donate now- .co/cEgmMhAdHa\n",
            "100% of proceeds go to the India COVID Response Fund by  .co/aBqlPZN1Zp\n",
            "\n",
            "10.It seems like we’re in the midst of a nightmare...just heard the depressing news of RishiKapoor ji passing away, it’s heartbreaking. He was a legend, a great co-star and a good friend of the family. My thoughts and prayers with his family 🙏🏻\n",
            "\n",
            "11.Thank you so much for making and sharing this, brought out the sentiments in such a beautiful way ♥️ .co/4yf4EOLA3u\n",
            "\n",
            "12.I salute  headconstables Chandrakant Pendurkar &amp; Sandip Surve, who laid their lives fighting Corona. I have done my duty, I hope you will too. Let’s not forget we are safe and alive because of them 🙏🏻 .co/mgJyxCdbOP .co/nDymEdeEtT\n",
            "\n",
            "13.Looks like you’re totally enjoying yourself  and hence I’m sure it’s going to be an enjoyable watch. Don’t forget to catch HotstarSpecialsHundred .co/cGILxtK8u7\n",
            "\n",
            "14.: ENJOY NOW -\n",
            "SangeetSetu with your favourite  on  &amp; Live-Stream on .co/LkIrRMN4RL …\n",
            "\n",
            "15.ThankYouDilSe  for being an integral part of this beautiful initiative to thank our Heroes who toil outside their homes, day and night so that we can stay comfortably in our homes with our families.\n",
            "\n",
            "16.There’s an army of people working day and night to keep us safe, our families safe. Lets together say DilSeThankYou to them because that’s the least we can do.   .co/ANf1ynTP09\n",
            "\n",
            "17.Together we stand and together we will come out of this dark phase. Till then stay strong, stay safe ✨ 9Baje9Minute .co/9b7AlWCjw7\n",
            "\n",
            "18.Put your distress to rest. The government of Maharashtra, BMC and Mpower 1on1 have created a free helpline to ensure that you don’t feel alone. Call 1800-120-820-050 to speak to a mental health professional. LetsTalk1on1  .co/FvkTRF3toe\n",
            "\n",
            "19.Absolutely in agreement with you on this Joginder,  is going great guns but at this time the one and only superstar is the one who will stay at home ensuring his and his family’s safety. Urging each one of you to be a superstar 🙏🏻 .co/Lf2l6tfH1T\n",
            "\n",
            "20.Well done  on your RJCurfew campaign. We all must follow JanataCurfew in these tough times. May we all sail through. Stay safe, stay blessed.\n",
            "\n",
            "21.For the first time in life, the winner will be the one who will stay put! This is a race, one which will save us...Say yes to SocialDistancing please 🙏🏻 BreakCorona TogetherAtHome  .co/fPIW8UvW13\n",
            "\n",
            "22.Please Please Please inn neeyamo ka paalan karein, apne aur doosron ki suraksha ke liye. Swasth rahein, surakshit rahein 🙏🏻🙏🏻🙏🏻 WarAgainstVirus \n",
            "\n",
            "For more info please follow :- \n",
            "  on Twitter.\n",
            " RohitShetty .co/ixlmiWmTuo\n",
            "\n",
            "23.An excellent initiative by PM  ji...this Sunday, March 22 from 7 am to 9 pm let’s all join in the JantaCurfew and show the world we are together in this. SocialDistancing\n",
            "\n",
            "24.Because our safety always, always comes first. Stay safe and take care of yourself 🙏🏻 .co/CnNfMT6Kck\n",
            "\n",
            "25.Filhall cover suniye in the sweet voice of  and wait for FilhallPart2 .co/67qhE3fcko\n",
            "\n",
            "26.Happy Holi everyone! Play safe, stay safe. .co/5TtSI2slKb\n",
            "\n",
            "27.So proud of you Jackky 💪🏽\n",
            "There's nothing that makes me happier than seeing you move your hips like Shakira Shakira!! Next challenge on one leg mate 😉 .co/3UG6jWINac\n",
            "\n",
            "28.Sending my best to the best!  and team, you’ve already done us proud. All I can say more is Chak de phatte!!!\n",
            "P.S. Harmanpreet, don’t forget to have some fun today on your birthday :) .co/sikiJnsG8j\n",
            "\n",
            "29.Girls across India are leading better lives, finishing school and staying safe with a simple, yet important change.\n",
            "This WomensDay, happy to share with you all 's film on the  revolution. Today at 7 PM on National Geographic. \n",
            "\n",
            "SwachhShakti  .co/yDCIbVHhdl\n",
            "\n",
            "30.Presenting MarakkarLionoftheArabianSea Official Hindi Trailer. Best wishes to ,  sir and my friend \n",
            "\n",
            ".co/ojieQY0AWc\n",
            "\n",
            "31.Thanks Angad 🙏🏻 .co/Vly9wcVBV5\n",
            "\n",
            "32.Thank you so much 🙏🏻 .co/5OOL3LeZ5J\n",
            "\n",
            "33.Glad you liked it, thank you 🤗 .co/j7GYbFHRue\n",
            "\n",
            "34.            Thank you :)\n",
            "\n",
            "35.Thanks Rahul 😁 .co/MpNsMD69TQ\n",
            "\n",
            "36.Aaya Police with amazing offers on  ! Book your tickets for Sooryavanshi now : .co/mqFxBNAT1g .co/T0hYGJgjmL\n",
            "\n",
            "37.DCP Veer Sooryavanshi now reporting LIVE! SooryavanshiTrailer \n",
            "  KatrinaKaif RohitShetty       CapeofGoodFilms   \n",
            ".co/QjKUa90eRK\n",
            "\n",
            "38.DCP Veer Sooryavanshi now reporting LIVE! SooryavanshiTrailer \n",
            "  KatrinaKaif RohitShetty       CapeofGoodFilms   \n",
            ".co/g0dWdhxfZf\n",
            "\n",
            "39.Are you ready for the action-packed Super Cop saga to unfold? SooryavanshiTrailer out tomorrow!\n",
            "  KatrinaKaif RohitShetty      CapeofGoodFilms    .co/3EOFNAqJrf\n",
            "\n",
            "40.So happy to meet this young little girl at the graduation day of our Womens Self Defense Center today and it is this confidence in her to take on the world which encourages our team to keep going 👏👏 WSDC  .co/Dv9ZEj4ea2\n",
            "\n",
            "41.Request to vote for Mumbai, \n",
            "Mumbaikars, visit .co/xy8RRmPFGX\n",
            "and participate in EaseofLiving2019 and help  win!\n",
            "\n",
            "42.GoodNewwz is now on .\n",
            "Better news, you can watch it anytime: .co/ogCY5nWfTQ .co/0PeCtCCXMW\n",
            "\n",
            "43.That’s very sweet, trailer will come soon for now wishing you a very happy birthday. Love and prayers always🙏🏻 .co/anH6g4zkvh\n",
            "\n",
            "44.That’s amazing, truly talented...God bless him. Thank you so much for sharing 🙏🏻 grateful .co/XlWd8Cp6qT\n",
            "\n",
            "45.If I had to describe shooting with KatrinaKaif in one picture, this would be it :) GoodVibesOnly Sooryavanshi BTS .co/xeJrZbQvf0\n",
            "\n",
            "46.Could fly in &amp; out in a jiffy only thanks to the superb efficiency of . Thank you for ensuring such a smooth experience at the award function in Guwahati. And  ji,it was an absolute pleasure to meet you,thank you once again for your kind hospitality 🙏🏻\n",
            "\n",
            "47.Happy to share about my newest association, Kurkure. \n",
            "Introducing new Kurkure Gazab Golmaal and Kurkure Hera Pheri Hungama flavours…ismein kya masale hain, kisi ka baap bhi nahi bata sakta!\n",
            " baaprebaap .co/AubGcPleIK\n",
            "\n",
            "48.On the day of love, remembering those who showed a greater love for their country...our BharatKeVeer. Your sacrifice will always be remembered. My salute to the martyrs of PulwamaAttack 🙏🏻 We did not forget, we did not forgive. .co/yugSePewV5\n",
            "\n",
            "49.Ayushman-bhava to this newest couple in town 👨‍❤️‍👨 After all, love is love. Watch AreyPyaarKarLe song now - .co/W4vtscBKll\n",
            "\n",
            " \n",
            "\n",
            "50.Team Sooryavanshi at the Maharashtra Police International Marathon on this beautiful Sunday morning, a great initiative where the police doesn’t run after you but with you 😜 AaRahiHaiPolice MarathonMovement RohitShetty  .co/lE2KghYBND\n",
            "\n",
            "51.The biggest goof-up is all ready to take over HongKong! 👶 GoodNewwz releases on 13th February!\n",
            "\n",
            " KareenaKapoorKhan  _kiara    _a_mehta  _  CapeOfGoodFilms  .co/X9BnZYTMyd\n",
            "\n",
            "52.They’re not alone, I too love BellBottom 😜 .co/VnAQJ4720H\n",
            "\n",
            "53.Love, in all its glory! \n",
            "Presenting AtrangiRe by .\n",
            "An  musical.\n",
            "Releasing on Valentine's 2021\n",
            "Written by: HimanshuSharma\n",
            "SaraAliKhan, , , , CapeOfGoodFilms,  .co/jda6pqzT57\n",
            "\n",
            "54.This one is really special \n",
            "Presenting AtrangiRe by . An  musical.\n",
            "Releasing on Valentine's 2021\n",
            "Written by: HimanshuSharma \n",
            "SaraAliKhan, , , , CapeOfGoodFilms .co/RmiXk19x83\n",
            "\n",
            "55.Away from the colourful,  steps over to the dark side, diving into the seas of horror! Best of luck  and  ! DharmaGoesDark .co/1LdN7Aaee5\n",
            "\n",
            "56.Anytime _khan , we’re all friends here 🙃 Presenting - new look, new release date. Coming on 22nd January, 2021. In and as BachchanPandey! SajidNadiadwala _samji  .co/Y75p0bQmaF .co/orZPR6NZYM\n",
            "\n",
            "57.Speechless,the world has lost a Legendary Athlete,R.I.P The BlackMamba of Basketball, Kobe Bryant &amp; his daughter,Gianna. \n",
            "What u have done for so many kids including my niece whom u inspired to play basketball every day of her childhood,may u both comfort each other in heaven🙏🏻 .co/qwQ8CffQ5F\n",
            "\n"
          ],
          "name": "stdout"
        }
      ]
    },
    {
      "cell_type": "code",
      "metadata": {
        "id": "rOxxENQ6ViOe",
        "colab_type": "code",
        "outputId": "5353d70a-6b13-471d-a639-ab126d9c73ea",
        "colab": {
          "base_uri": "https://localhost:8080/",
          "height": 445
        }
      },
      "source": [
        "j=1\n",
        "sortedDF = df.sort_values(by=['Polarity'],ascending='False')\n",
        "for i in range(0,sortedDF.shape[0]):\n",
        "  if (sortedDF['Analysis'][i]=='Negative'):\n",
        "    print(str(j)+'.'+sortedDF['tweets'][i])\n",
        "    print()\n",
        "    j=j+1"
      ],
      "execution_count": 0,
      "outputs": [
        {
          "output_type": "stream",
          "text": [
            "1.Such terrible news...saddened to hear about the demise of IrrfanKhan, one of the finest actors of our time. May God give strength to his family in this difficult time 🙏🏻\n",
            "\n",
            "2.Name : Akshay Kumar\n",
            "City : Mumbai \n",
            "\n",
            "Mere aur mere parivaar ki taraf se...\n",
            "Police, Nagar Nigam ke workers, doctors, nurses, NGOs, volunteers, government officials, vendors, building ke guards ko DilSeThankYou 🙏🏻 .co/N8dnb4Na63\n",
            "\n",
            "3.At the risk of sounding repetitive, sharing my thoughts...there is a lockdown for a reason. Please don’t be selfish and venture out, you’re putting others lives at risk 🙏🏻\n",
            "StayAtHomeSaveLives.  .co/G0Nms9hYoP\n",
            "\n",
            "4.Joined these boys for a game of volleyball this morning at the beach. You don’t always need a gym to exercise, mix it up...it’s fun. .co/zwd3wQ0TW5\n",
            "\n",
            "5.Rain is predicted for today.\n",
            "\n",
            "Yes, its going to rain 6s.\n",
            "\n",
            "Watch my team take on ’s team in Honda’s first ever Game of Sixes, today,6PM onwards, only on Star Sports.\n",
            "\n",
            "GameOfSixes Activa6G 6ChangesTheGame  .co/KqJfnBQdlc\n",
            "\n",
            "6.Desi Police is coming on 27th March with lots of action, till then meet the Videsi Police, Bad Boys For Life...this 31st January at a theatre near you. \n",
            "BadBoyswithRohitShetty .co/sZM3m8ZZOf\n",
            "\n"
          ],
          "name": "stdout"
        }
      ]
    },
    {
      "cell_type": "code",
      "metadata": {
        "id": "YJ2f_u7oWSNS",
        "colab_type": "code",
        "outputId": "3448e62e-a7de-4a98-f02b-b61c828842ab",
        "colab": {
          "base_uri": "https://localhost:8080/",
          "height": 458
        }
      },
      "source": [
        "plt.figure(figsize=(8,6))\n",
        "for i in range(0,df.shape[0]):\n",
        "  plt.scatter(df['Polarity'][i],df['Subjectivity'][i],color='Blue')\n",
        "\n",
        "plt.title('Sentiment Analysis')\n",
        "plt.xlabel('Polarity')\n",
        "plt.ylabel('Subjectivity')"
      ],
      "execution_count": 0,
      "outputs": [
        {
          "output_type": "execute_result",
          "data": {
            "text/plain": [
              "Text(0, 0.5, 'Subjectivity')"
            ]
          },
          "metadata": {
            "tags": []
          },
          "execution_count": 96
        },
        {
          "output_type": "display_data",
          "data": {
            "image/png": "[encoded data removed]",
            "text/plain": [
              "<Figure size 576x432 with 1 Axes>"
            ]
          },
          "metadata": {
            "tags": []
          }
        }
      ]
    },
    {
      "cell_type": "code",
      "metadata": {
        "id": "SjJhHes9YDmW",
        "colab_type": "code",
        "outputId": "1d5ee02f-96ff-47c5-b7c2-89ec47fb754f",
        "colab": {
          "base_uri": "https://localhost:8080/",
          "height": 1000
        }
      },
      "source": [
        "tweets_pos = df[df.Analysis=='Positive']\n",
        "tweets_pos = tweets_pos['tweets']\n",
        "\n",
        "tweets_pos"
      ],
      "execution_count": 0,
      "outputs": [
        {
          "output_type": "execute_result",
          "data": {
            "text/plain": [
              "0     _Association: As a mark of gratitude to the IP...\n",
              "1     A great cause needs your support. Covid doesn’...\n",
              "2     This pandemic has only strengthened my belief ...\n",
              "3     : Bid for Good!\\nI have teamed up with  to auc...\n",
              "5     Everyday I hear incidents of bravery of our fr...\n",
              "6     Even in this day and age, you’re the only one ...\n",
              "7     Wish you a very Happy birthday! Love and praye...\n",
              "9     From our hearts to yours. Thank you for watchi...\n",
              "10    We bring you India’s biggest at-home concert -...\n",
              "11    It seems like we’re in the midst of a nightmar...\n",
              "13    Thank you so much for making and sharing this,...\n",
              "14    I salute  headconstables Chandrakant Pendurkar...\n",
              "17    Looks like you’re totally enjoying yourself  a...\n",
              "20    : ENJOY NOW -\\nSangeetSetu with your favourite...\n",
              "22    ThankYouDilSe  for being an integral part of t...\n",
              "25    There’s an army of people working day and nigh...\n",
              "28    Together we stand and together we will come ou...\n",
              "29    Put your distress to rest. The government of M...\n",
              "31    Absolutely in agreement with you on this Jogin...\n",
              "36    Well done  on your RJCurfew campaign. We all m...\n",
              "37    For the first time in life, the winner will be...\n",
              "38    Please Please Please inn neeyamo ka paalan kar...\n",
              "39    An excellent initiative by PM  ji...this Sunda...\n",
              "40    Because our safety always, always comes first....\n",
              "41    Filhall cover suniye in the sweet voice of  an...\n",
              "42    Happy Holi everyone! Play safe, stay safe. .co...\n",
              "43    So proud of you Jackky 💪🏽\\nThere's nothing tha...\n",
              "44    Sending my best to the best!  and team, you’ve...\n",
              "45    Girls across India are leading better lives, f...\n",
              "46    Presenting MarakkarLionoftheArabianSea Officia...\n",
              "54                       Thanks Angad 🙏🏻 .co/Vly9wcVBV5\n",
              "57                  Thank you so much 🙏🏻 .co/5OOL3LeZ5J\n",
              "58        Glad you liked it, thank you 🤗 .co/j7GYbFHRue\n",
              "59                                         Thank you :)\n",
              "62                        Thanks Rahul 😁 .co/MpNsMD69TQ\n",
              "65    Aaya Police with amazing offers on  ! Book you...\n",
              "67    DCP Veer Sooryavanshi now reporting LIVE! Soor...\n",
              "68    DCP Veer Sooryavanshi now reporting LIVE! Soor...\n",
              "70    Are you ready for the action-packed Super Cop ...\n",
              "72    So happy to meet this young little girl at the...\n",
              "73    Request to vote for Mumbai, \\nMumbaikars, visi...\n",
              "75    GoodNewwz is now on .\\nBetter news, you can wa...\n",
              "76    That’s very sweet, trailer will come soon for ...\n",
              "77    That’s amazing, truly talented...God bless him...\n",
              "78    If I had to describe shooting with KatrinaKaif...\n",
              "79    Could fly in &amp; out in a jiffy only thanks ...\n",
              "80    Happy to share about my newest association, Ku...\n",
              "82    On the day of love, remembering those who show...\n",
              "84    Ayushman-bhava to this newest couple in town 👨...\n",
              "85    Team Sooryavanshi at the Maharashtra Police In...\n",
              "88    The biggest goof-up is all ready to take over ...\n",
              "89    They’re not alone, I too love BellBottom 😜 .co...\n",
              "90    Love, in all its glory! \\nPresenting AtrangiRe...\n",
              "91    This one is really special \\nPresenting Atrang...\n",
              "93    Away from the colourful,  steps over to the da...\n",
              "95    Anytime _khan , we’re all friends here 🙃 Prese...\n",
              "96    Speechless,the world has lost a Legendary Athl...\n",
              "Name: tweets, dtype: object"
            ]
          },
          "metadata": {
            "tags": []
          },
          "execution_count": 98
        }
      ]
    },
    {
      "cell_type": "code",
      "metadata": {
        "id": "C9_kfsX3Y6BT",
        "colab_type": "code",
        "outputId": "2378ecc5-8d3f-4d86-f1cf-b690f6f3c977",
        "colab": {
          "base_uri": "https://localhost:8080/",
          "height": 34
        }
      },
      "source": [
        "df.shape"
      ],
      "execution_count": 0,
      "outputs": [
        {
          "output_type": "execute_result",
          "data": {
            "text/plain": [
              "(100, 4)"
            ]
          },
          "metadata": {
            "tags": []
          },
          "execution_count": 99
        }
      ]
    },
    {
      "cell_type": "code",
      "metadata": {
        "id": "U5EzksJfZL9q",
        "colab_type": "code",
        "outputId": "ead462ac-c74a-43e4-d6aa-b2923cb6353f",
        "colab": {
          "base_uri": "https://localhost:8080/",
          "height": 34
        }
      },
      "source": [
        "tweets_pos.shape"
      ],
      "execution_count": 0,
      "outputs": [
        {
          "output_type": "execute_result",
          "data": {
            "text/plain": [
              "(57,)"
            ]
          },
          "metadata": {
            "tags": []
          },
          "execution_count": 100
        }
      ]
    },
    {
      "cell_type": "code",
      "metadata": {
        "id": "Zrlif8aSZgDR",
        "colab_type": "code",
        "outputId": "0825f319-5726-4ccd-ad75-dbece23f25b2",
        "colab": {
          "base_uri": "https://localhost:8080/",
          "height": 34
        }
      },
      "source": [
        "round((tweets_pos.shape[0]/df.shape[0])*100,1)"
      ],
      "execution_count": 0,
      "outputs": [
        {
          "output_type": "execute_result",
          "data": {
            "text/plain": [
              "57.0"
            ]
          },
          "metadata": {
            "tags": []
          },
          "execution_count": 101
        }
      ]
    },
    {
      "cell_type": "code",
      "metadata": {
        "id": "8C6XVznVZzLD",
        "colab_type": "code",
        "outputId": "1f069e07-e7d7-40be-f231-c140a92a17d5",
        "colab": {
          "base_uri": "https://localhost:8080/",
          "height": 136
        }
      },
      "source": [
        "tweets_neg = df[df.Analysis=='Negative']\n",
        "tweets_neg = tweets_neg['tweets']\n",
        "\n",
        "tweets_neg"
      ],
      "execution_count": 0,
      "outputs": [
        {
          "output_type": "execute_result",
          "data": {
            "text/plain": [
              "12    Such terrible news...saddened to hear about th...\n",
              "24    Name : Akshay Kumar\\nCity : Mumbai \\n\\nMere au...\n",
              "33    At the risk of sounding repetitive, sharing my...\n",
              "92    Joined these boys for a game of volleyball thi...\n",
              "97    Rain is predicted for today.\\n\\nYes, its going...\n",
              "98    Desi Police is coming on 27th March with lots ...\n",
              "Name: tweets, dtype: object"
            ]
          },
          "metadata": {
            "tags": []
          },
          "execution_count": 102
        }
      ]
    },
    {
      "cell_type": "code",
      "metadata": {
        "id": "-UrGmVv6Z_jS",
        "colab_type": "code",
        "outputId": "3f420e37-5de8-4949-d35b-8ae71668b800",
        "colab": {
          "base_uri": "https://localhost:8080/",
          "height": 34
        }
      },
      "source": [
        "round((tweets_neg.shape[0]/df.shape[0])*100,1)"
      ],
      "execution_count": 0,
      "outputs": [
        {
          "output_type": "execute_result",
          "data": {
            "text/plain": [
              "6.0"
            ]
          },
          "metadata": {
            "tags": []
          },
          "execution_count": 103
        }
      ]
    },
    {
      "cell_type": "code",
      "metadata": {
        "id": "3utdIVyraDfw",
        "colab_type": "code",
        "outputId": "fd0e6291-3623-4876-cffd-c558db6cc407",
        "colab": {
          "base_uri": "https://localhost:8080/",
          "height": 663
        }
      },
      "source": [
        "tweets_neut = df[df.Analysis=='Neutral']\n",
        "tweets_neut = tweets_neut['tweets']\n",
        "\n",
        "tweets_neut"
      ],
      "execution_count": 0,
      "outputs": [
        {
          "output_type": "execute_result",
          "data": {
            "text/plain": [
              "4     Thank you ...so my favourite films from the 90...\n",
              "8     Umeed hai sab theek hoga wapas,\\nUmeed hai tum...\n",
              "15                                 CapeOfGoodFilms  _  \n",
              "16    सुना था डॉक्टर्स भगवन का रूप होते है लेकिन कोर...\n",
              "18                                 CapeOfGoodFilms  _  \n",
              "19    किसी ने सही कहा है, मुश्किल के समय सिर्फ अपने ...\n",
              "21    Privileged to host the stalwarts of Indian Mus...\n",
              "23    सन् 1965 में आज के दिन खुद से कई गुना बड़ी दुश...\n",
              "26    All we need is a united stand. Aur phir Muskur...\n",
              "27    At a time like this when our days are clouded ...\n",
              "30    This is that time when all that matters is the...\n",
              "32    : GoodbyesAreGoodToo \\n\\nThe happiest moment f...\n",
              "34                                    IndiaFightsCorona\n",
              "35    5mins at 5pm :With my neighbours,taking a mome...\n",
              "47                                 Thank you brother ♥️\n",
              "48                   Thank you Tusshar 🤗 .co/tEq0wc03zE\n",
              "49    Thank you for giving the Sooryavanshi trailer ...\n",
              "50    One place which has become a must visit during...\n",
              "51                                    🙏🙏 .co/8OHFJRtITd\n",
              "52                      Shukriya paaji 🤗 .co/LndxmWykQf\n",
              "53                                  🤞🏻🙏🏻 .co/YKMPBF2sjO\n",
              "55    Thank you, will await your review 😁 .co/2q9IPd...\n",
              "56    Thank you Bhumi on behalf of Team Sooryavanshi...\n",
              "60                          Thank you 🙏🏻 .co/jopLVJTQ2C\n",
              "61                                  🙏🏻🙏🏻 .co/IqRdxrQ2W9\n",
              "63                        Thank you Neha .co/XjEpiiUuaz\n",
              "64    Aa rahi hai Police 24th March ko. Book your ti...\n",
              "66    When RohitShetty’s Cop Universe : Singham, Sim...\n",
              "69    Veer Sooryavanshi ditched the helicopter for a...\n",
              "71    Nakshe wali rotiyon se lacche wale paratho tak...\n",
              "74    Ain't no time for crime 'coz Aa Rahi Hai Polic...\n",
              "81    And all this while I was blaming my PA for fid...\n",
              "83    Ek se bhale do, do se bhale teen…Baap Re Baap,...\n",
              "86    Spotted : The newest SwachhBharat brand ambass...\n",
              "87                                                     \n",
              "94    I know there are enough memes out there about ...\n",
              "99    The story continues with another melody... Fil...\n",
              "Name: tweets, dtype: object"
            ]
          },
          "metadata": {
            "tags": []
          },
          "execution_count": 104
        }
      ]
    },
    {
      "cell_type": "code",
      "metadata": {
        "id": "BlB0G-A_aPxI",
        "colab_type": "code",
        "outputId": "b4aaa47e-f4e3-40c0-e160-8ac338ebe3ce",
        "colab": {
          "base_uri": "https://localhost:8080/",
          "height": 34
        }
      },
      "source": [
        "round((tweets_neut.shape[0]/df.shape[0])*100,1)"
      ],
      "execution_count": 0,
      "outputs": [
        {
          "output_type": "execute_result",
          "data": {
            "text/plain": [
              "37.0"
            ]
          },
          "metadata": {
            "tags": []
          },
          "execution_count": 105
        }
      ]
    },
    {
      "cell_type": "code",
      "metadata": {
        "id": "pWXCv58DaTS3",
        "colab_type": "code",
        "outputId": "88351128-1800-42bb-b0ab-6bc77092972e",
        "colab": {
          "base_uri": "https://localhost:8080/",
          "height": 374
        }
      },
      "source": [
        "df['Analysis'].value_counts()\n",
        "\n",
        "plt.title('Sentiment Analysis')\n",
        "plt.xlabel('Sentiment')\n",
        "plt.ylabel('Counts')\n",
        "df['Analysis'].value_counts().plot(kind='bar')\n",
        "plt.show()"
      ],
      "execution_count": 0,
      "outputs": [
        {
          "output_type": "display_data",
          "data": {
            "image/png": "[encoded data removed]",
            "text/plain": [
              "<Figure size 432x288 with 1 Axes>"
            ]
          },
          "metadata": {
            "tags": []
          }
        }
      ]
    },
    {
      "cell_type": "code",
      "metadata": {
        "id": "6BBDL2fjam5J",
        "colab_type": "code",
        "colab": {}
      },
      "source": [
        ""
      ],
      "execution_count": 0,
      "outputs": []
    }
  ]
}